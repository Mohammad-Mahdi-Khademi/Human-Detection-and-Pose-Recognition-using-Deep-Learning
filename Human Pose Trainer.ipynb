{
 "cells": [
  {
   "cell_type": "code",
   "execution_count": 1,
   "metadata": {},
   "outputs": [
    {
     "name": "stdout",
     "output_type": "stream",
     "text": [
      "WARNING:tensorflow:From c:\\Users\\ILiYA\\anaconda3\\Lib\\site-packages\\keras\\src\\losses.py:2976: The name tf.losses.sparse_softmax_cross_entropy is deprecated. Please use tf.compat.v1.losses.sparse_softmax_cross_entropy instead.\n",
      "\n"
     ]
    }
   ],
   "source": [
    "import os\n",
    "import cv2\n",
    "import json\n",
    "import numpy as np\n",
    "import pandas as pd\n",
    "from PIL import Image\n",
    "import tensorflow as tf\n",
    "from itertools import chain\n",
    "from tensorflow import keras\n",
    "from ultralytics import YOLO\n",
    "import matplotlib.pyplot as plt\n",
    "from tensorflow.keras import layers\n",
    "from keras.utils import to_categorical\n",
    "%matplotlib inline"
   ]
  },
  {
   "cell_type": "code",
   "execution_count": 2,
   "metadata": {},
   "outputs": [],
   "source": [
    "with open(r\"C:\\Users\\ILiYA\\Desktop\\Human Detection\\Data Set\\DataSet.json\", \"r\") as file:\n",
    "    data = json.load(file)"
   ]
  },
  {
   "cell_type": "code",
   "execution_count": 3,
   "metadata": {},
   "outputs": [],
   "source": [
    "folder_path = r\"C:\\Users\\ILiYA\\Desktop\\Human Detection\\Data Set\\people\"\n",
    "images = []\n",
    "for filename in os.listdir(folder_path):\n",
    "    if filename.endswith('.jpg') or filename.endswith('.png'):\n",
    "        img_path = os.path.join(folder_path, filename)\n",
    "        img = cv2.imread(img_path)\n",
    "        img = cv2.cvtColor(img, cv2.COLOR_BGR2RGB)\n",
    "        image=cv2.resize(img, (28,28))\n",
    "        images.append(image)\n",
    "\n",
    "x_train = np.array(images)"
   ]
  },
  {
   "cell_type": "code",
   "execution_count": 4,
   "metadata": {},
   "outputs": [
    {
     "name": "stdout",
     "output_type": "stream",
     "text": [
      "[{1}, {1}, {1}, {1}, {1}, {1}, {1}, {1}, {1}, {1}, {2}, {2}, {2}, {2}, {2}, {2}, {2}, {2}, {2}, {2}, {3}, {3}, {3}, {3}, {3}, {3}, {3}, {3}, {3}, {3}, {4}, {4}, {4}, {4}, {4}, {4}, {4}, {3}, {4}, {4}, {5}, {5}, {5}, {5}, {5}, {5}, {5}, {5}, {5}, {2}, {1}, {1}, {1}, {1}, {1}, {1}, {1}, {1}, {1}, {1}, {2}, {2}, {2}, {2}, {2}, {2}, {2}, {2}, {2}, {3}, {3}, {3}, {3}, {3}, {1}, {3}, {3}, {3}, {4}, {4}, {4}, {4}, {4}, {4}, {4}, {1}, {4}, {4}, {5}, {5}, {5}, {5}, {5}, {5}, {5}, {5}, {5}, {5}, {1}, {1}, {1}, {2}, {2}, {3}, {3}, {1}, {1}, {2}, {1}, {1}, {1}, {1}, {2}, {1}, {1}, {4}, {4}, {4}, {4}, {4}, {4}, {4}, {4}, {4}, {2}, {4}, {2}, {2}, {2}, {3}, {4}, {4}, {4}, {3}, {4}, {2}, {2}, {2}, {2}, {2}, {2}, {2}, {2}, {2}, {2}, {2}, {2}, {2}, {2}, {2}, {2}, {2}, {2}, {2}, {2}, {2}, {2}, {2}, {2}, {2}, {2}, {2}, {2}, {2}, {2}, {2}, {2}, {2}, {2}, {2}, {2}, {2}, {2}, {2}, {2}, {2}, {2}, {2}, {2}, {2}, {2}, {2}, {2}, {2}, {2}, {2}, {2}, {2}, {2}, {3}, {3}, {3}, {1}, {3}, {3}, {3}, {1}, {1}, {3}, {3}, {4}, {3}, {3}, {3}, {3}, {3}, {3}, {1}, {3}, {3}, {3}, {3}, {3}, {3}, {3}, {3}, {3}, {1}, {3}, {1}, {1}, {1}, {3}, {3}, {3}, {3}, {3}, {3}, {3}, {3}, {1}, {3}, {3}, {3}, {3}, {3}, {3}, {1}, {1}, {2}, {2}, {3}, {3}, {3}, {3}, {2}, {3}, {1}, {3}, {1}, {2}, {3}, {3}, {3}, {3}, {1}, {1}, {1}, {3}, {3}, {1}, {1}, {1}, {1}, {1}, {1}, {1}, {1}, {1}, {1}, {1}, {1}, {1}, {5}, {5}, {5}, {5}, {5}, {5}, {5}, {5}, {5}, {5}, {5}, {5}, {5}, {5}, {5}, {5}, {5}, {5}, {5}, {5}, {5}, {5}, {5}, {5}, {5}, {5}, {1}]\n"
     ]
    }
   ],
   "source": [
    "y_train = []\n",
    "\n",
    "for key, value in data['_via_img_metadata'].items():\n",
    "    regions = value['regions']\n",
    "    positions = set()\n",
    "\n",
    "    for region in regions:\n",
    "        region_attributes = region['region_attributes']\n",
    "        position = region_attributes.get('position')\n",
    "\n",
    "        if position and position.get('1'):\n",
    "            positions.add(1)\n",
    "        elif position and position.get('2'):\n",
    "            positions.add(2)\n",
    "        elif position and position.get('3'):\n",
    "            positions.add(3)\n",
    "        elif position and position.get('4'):\n",
    "            positions.add(4)\n",
    "        elif position and position.get('5'):\n",
    "            positions.add(5)\n",
    "    y_train.append(positions)\n",
    "\n",
    "print(y_train)"
   ]
  },
  {
   "cell_type": "code",
   "execution_count": 5,
   "metadata": {},
   "outputs": [
    {
     "name": "stdout",
     "output_type": "stream",
     "text": [
      "[1, 1, 1, 1, 1, 1, 1, 1, 1, 1, 2, 2, 2, 2, 2, 2, 2, 2, 2, 2, 3, 3, 3, 3, 3, 3, 3, 3, 3, 3, 4, 4, 4, 4, 4, 4, 4, 3, 4, 4, 5, 5, 5, 5, 5, 5, 5, 5, 5, 2, 1, 1, 1, 1, 1, 1, 1, 1, 1, 1, 2, 2, 2, 2, 2, 2, 2, 2, 2, 3, 3, 3, 3, 3, 1, 3, 3, 3, 4, 4, 4, 4, 4, 4, 4, 1, 4, 4, 5, 5, 5, 5, 5, 5, 5, 5, 5, 5, 1, 1, 1, 2, 2, 3, 3, 1, 1, 2, 1, 1, 1, 1, 2, 1, 1, 4, 4, 4, 4, 4, 4, 4, 4, 4, 2, 4, 2, 2, 2, 3, 4, 4, 4, 3, 4, 2, 2, 2, 2, 2, 2, 2, 2, 2, 2, 2, 2, 2, 2, 2, 2, 2, 2, 2, 2, 2, 2, 2, 2, 2, 2, 2, 2, 2, 2, 2, 2, 2, 2, 2, 2, 2, 2, 2, 2, 2, 2, 2, 2, 2, 2, 2, 2, 2, 2, 2, 2, 2, 2, 3, 3, 3, 1, 3, 3, 3, 1, 1, 3, 3, 4, 3, 3, 3, 3, 3, 3, 1, 3, 3, 3, 3, 3, 3, 3, 3, 3, 1, 3, 1, 1, 1, 3, 3, 3, 3, 3, 3, 3, 3, 1, 3, 3, 3, 3, 3, 3, 1, 1, 2, 2, 3, 3, 3, 3, 2, 3, 1, 3, 1, 2, 3, 3, 3, 3, 1, 1, 1, 3, 3, 1, 1, 1, 1, 1, 1, 1, 1, 1, 1, 1, 1, 1, 5, 5, 5, 5, 5, 5, 5, 5, 5, 5, 5, 5, 5, 5, 5, 5, 5, 5, 5, 5, 5, 5, 5, 5, 5, 5, 1]\n"
     ]
    }
   ],
   "source": [
    "y_train = [{1}, {1}, {1}, {1}, {1}, {1}, {1}, {1}, {1}, {1}, {2}, {2}, {2}, {2}, {2}, {2}, {2}, {2}, {2}, {2}, {3}, {3}, {3}, {3}, {3}, {3}, {3}, {3}, {3}, {3}, {4}, {4}, {4}, {4}, {4}, {4}, {4}, {3}, {4}, {4}, {5}, {5}, {5}, {5}, {5}, {5}, {5}, {5}, {5}, {2}, {1}, {1}, {1}, {1}, {1}, {1}, {1}, {1}, {1}, {1}, {2}, {2}, {2}, {2}, {2}, {2}, {2}, {2}, {2}, {3}, {3}, {3}, {3}, {3}, {1}, {3}, {3}, {3}, {4}, {4}, {4}, {4}, {4}, {4}, {4}, {1}, {4}, {4}, {5}, {5}, {5}, {5}, {5}, {5}, {5}, {5}, {5}, {5}, {1}, {1}, {1}, {2}, {2}, {3}, {3}, {1}, {1}, {2}, {1}, {1}, {1}, {1}, {2}, {1}, {1}, {4}, {4}, {4}, {4}, {4}, {4}, {4}, {4}, {4}, {2}, {4}, {2}, {2}, {2}, {3}, {4}, {4}, {4}, {3}, {4}, {2}, {2}, {2}, {2}, {2}, {2}, {2}, {2}, {2}, {2}, {2}, {2}, {2}, {2}, {2}, {2}, {2}, {2}, {2}, {2}, {2}, {2}, {2}, {2}, {2}, {2}, {2}, {2}, {2}, {2}, {2}, {2}, {2}, {2}, {2}, {2}, {2}, {2}, {2}, {2}, {2}, {2}, {2}, {2}, {2}, {2}, {2}, {2}, {2}, {2}, {2}, {2}, {2}, {2}, {3}, {3}, {3}, {1}, {3}, {3}, {3}, {1}, {1}, {3}, {3}, {4}, {3}, {3}, {3}, {3}, {3}, {3}, {1}, {3}, {3}, {3}, {3}, {3}, {3}, {3}, {3}, {3}, {1}, {3}, {1}, {1}, {1}, {3}, {3}, {3}, {3}, {3}, {3}, {3}, {3}, {1}, {3}, {3}, {3}, {3}, {3}, {3}, {1}, {1}, {2}, {2}, {3}, {3}, {3}, {3}, {2}, {3}, {1}, {3}, {1}, {2}, {3}, {3}, {3}, {3}, {1}, {1}, {1}, {3}, {3}, {1}, {1}, {1}, {1}, {1}, {1}, {1}, {1}, {1}, {1}, {1}, {1}, {1}, {5}, {5}, {5}, {5}, {5}, {5}, {5}, {5}, {5}, {5}, {5}, {5}, {5}, {5}, {5}, {5}, {5}, {5}, {5}, {5}, {5}, {5}, {5}, {5}, {5}, {5}, {1}]\n",
    "y_train_list = [list(s)[0] for s in y_train]\n",
    "print(y_train_list)"
   ]
  },
  {
   "cell_type": "code",
   "execution_count": 6,
   "metadata": {},
   "outputs": [
    {
     "data": {
      "text/plain": [
       "(300, 1)"
      ]
     },
     "execution_count": 6,
     "metadata": {},
     "output_type": "execute_result"
    }
   ],
   "source": [
    "y_Train = np.array(y_train_list)\n",
    "y = pd.Series(y_Train).array\n",
    "yFinal = y.reshape(-1,1)\n",
    "np.shape(yFinal)"
   ]
  },
  {
   "cell_type": "code",
   "execution_count": 7,
   "metadata": {},
   "outputs": [
    {
     "name": "stdout",
     "output_type": "stream",
     "text": [
      "WARNING:tensorflow:From c:\\Users\\ILiYA\\anaconda3\\Lib\\site-packages\\keras\\src\\backend.py:873: The name tf.get_default_graph is deprecated. Please use tf.compat.v1.get_default_graph instead.\n",
      "\n",
      "WARNING:tensorflow:From c:\\Users\\ILiYA\\anaconda3\\Lib\\site-packages\\keras\\src\\layers\\pooling\\max_pooling2d.py:161: The name tf.nn.max_pool is deprecated. Please use tf.nn.max_pool2d instead.\n",
      "\n"
     ]
    }
   ],
   "source": [
    "model = tf.keras.Sequential([\n",
    "    layers.Conv2D(32, (3, 3), activation='relu',input_shape=(28,28,3)),\n",
    "    layers.MaxPooling2D((2, 2)),\n",
    "    layers.Conv2D(64, (3, 3), activation='relu'),\n",
    "    layers.MaxPooling2D((2, 2)),\n",
    "    layers.Flatten(),\n",
    "    layers.Dense(64, activation='relu'),\n",
    "    layers.Dense(units=5 ,activation='softmax' )\n",
    "])"
   ]
  },
  {
   "cell_type": "code",
   "execution_count": 8,
   "metadata": {},
   "outputs": [
    {
     "name": "stdout",
     "output_type": "stream",
     "text": [
      "WARNING:tensorflow:From c:\\Users\\ILiYA\\anaconda3\\Lib\\site-packages\\keras\\src\\optimizers\\__init__.py:309: The name tf.train.Optimizer is deprecated. Please use tf.compat.v1.train.Optimizer instead.\n",
      "\n"
     ]
    }
   ],
   "source": [
    "model.compile(loss='categorical_crossentropy', optimizer='adam', metrics=['accuracy'])"
   ]
  },
  {
   "cell_type": "code",
   "execution_count": 9,
   "metadata": {},
   "outputs": [],
   "source": [
    "xFinal = [x_train]\n",
    "flatten_xFinal = np.concatenate(list(chain.from_iterable(xFinal)))\n",
    "X_Ttrain = np.asarray(flatten_xFinal).astype(int)"
   ]
  },
  {
   "cell_type": "code",
   "execution_count": 10,
   "metadata": {},
   "outputs": [],
   "source": [
    "y_Ttrain=np.array(yFinal).astype(int)"
   ]
  },
  {
   "cell_type": "code",
   "execution_count": 11,
   "metadata": {},
   "outputs": [
    {
     "name": "stdout",
     "output_type": "stream",
     "text": [
      "(300, 28, 28, 3)\n",
      "(1, 300)\n"
     ]
    }
   ],
   "source": [
    "np.repeat(y_train_list, repeats=(len(x_train) // len(y_train_list)))\n",
    "y_Trrain = y_Ttrain.reshape(1,-1)\n",
    "print(x_train.shape)\n",
    "print(y_Trrain.shape)"
   ]
  },
  {
   "cell_type": "code",
   "execution_count": 12,
   "metadata": {},
   "outputs": [
    {
     "name": "stdout",
     "output_type": "stream",
     "text": [
      "(300, 5)\n"
     ]
    }
   ],
   "source": [
    "y_Ttrain_encoded = to_categorical(y_Ttrain - 1, num_classes=5)\n",
    "print(y_Ttrain_encoded.shape)"
   ]
  },
  {
   "cell_type": "code",
   "execution_count": 13,
   "metadata": {},
   "outputs": [
    {
     "name": "stdout",
     "output_type": "stream",
     "text": [
      "Epoch 1/50\n",
      "WARNING:tensorflow:From c:\\Users\\ILiYA\\anaconda3\\Lib\\site-packages\\keras\\src\\utils\\tf_utils.py:492: The name tf.ragged.RaggedTensorValue is deprecated. Please use tf.compat.v1.ragged.RaggedTensorValue instead.\n",
      "\n",
      "WARNING:tensorflow:From c:\\Users\\ILiYA\\anaconda3\\Lib\\site-packages\\keras\\src\\engine\\base_layer_utils.py:384: The name tf.executing_eagerly_outside_functions is deprecated. Please use tf.compat.v1.executing_eagerly_outside_functions instead.\n",
      "\n",
      "30/30 [==============================] - 1s 3ms/step - loss: 17.5169 - accuracy: 0.2467\n",
      "Epoch 2/50\n",
      "30/30 [==============================] - 0s 3ms/step - loss: 2.0468 - accuracy: 0.2733\n",
      "Epoch 3/50\n",
      "30/30 [==============================] - 0s 3ms/step - loss: 1.4525 - accuracy: 0.3967\n",
      "Epoch 4/50\n",
      "30/30 [==============================] - 0s 3ms/step - loss: 1.1319 - accuracy: 0.5400\n",
      "Epoch 5/50\n",
      "30/30 [==============================] - 0s 3ms/step - loss: 0.9631 - accuracy: 0.6333\n",
      "Epoch 6/50\n",
      "30/30 [==============================] - 0s 3ms/step - loss: 0.7848 - accuracy: 0.7333\n",
      "Epoch 7/50\n",
      "30/30 [==============================] - 0s 3ms/step - loss: 0.6651 - accuracy: 0.7633\n",
      "Epoch 8/50\n",
      "30/30 [==============================] - 0s 3ms/step - loss: 0.6185 - accuracy: 0.7967\n",
      "Epoch 9/50\n",
      "30/30 [==============================] - 0s 3ms/step - loss: 0.5732 - accuracy: 0.8133\n",
      "Epoch 10/50\n",
      "30/30 [==============================] - 0s 3ms/step - loss: 0.5633 - accuracy: 0.8133\n",
      "Epoch 11/50\n",
      "30/30 [==============================] - 0s 3ms/step - loss: 0.5408 - accuracy: 0.8200\n",
      "Epoch 12/50\n",
      "30/30 [==============================] - 0s 3ms/step - loss: 0.4791 - accuracy: 0.8367\n",
      "Epoch 13/50\n",
      "30/30 [==============================] - 0s 3ms/step - loss: 0.4392 - accuracy: 0.8233\n",
      "Epoch 14/50\n",
      "30/30 [==============================] - 0s 3ms/step - loss: 0.4171 - accuracy: 0.8167\n",
      "Epoch 15/50\n",
      "30/30 [==============================] - 0s 3ms/step - loss: 0.4133 - accuracy: 0.8333\n",
      "Epoch 16/50\n",
      "30/30 [==============================] - 0s 3ms/step - loss: 0.3512 - accuracy: 0.8600\n",
      "Epoch 17/50\n",
      "30/30 [==============================] - 0s 3ms/step - loss: 0.3921 - accuracy: 0.8433\n",
      "Epoch 18/50\n",
      "30/30 [==============================] - 0s 3ms/step - loss: 0.4016 - accuracy: 0.8167\n",
      "Epoch 19/50\n",
      "30/30 [==============================] - 0s 3ms/step - loss: 0.4092 - accuracy: 0.8500\n",
      "Epoch 20/50\n",
      "30/30 [==============================] - 0s 3ms/step - loss: 0.3362 - accuracy: 0.8433\n",
      "Epoch 21/50\n",
      "30/30 [==============================] - 0s 3ms/step - loss: 0.3526 - accuracy: 0.8367\n",
      "Epoch 22/50\n",
      "30/30 [==============================] - 0s 3ms/step - loss: 0.3469 - accuracy: 0.8233\n",
      "Epoch 23/50\n",
      "30/30 [==============================] - 0s 3ms/step - loss: 0.3611 - accuracy: 0.8367\n",
      "Epoch 24/50\n",
      "30/30 [==============================] - 0s 3ms/step - loss: 0.3264 - accuracy: 0.8333\n",
      "Epoch 25/50\n",
      "30/30 [==============================] - 0s 3ms/step - loss: 0.3450 - accuracy: 0.8433\n",
      "Epoch 26/50\n",
      "30/30 [==============================] - 0s 3ms/step - loss: 0.2895 - accuracy: 0.8400\n",
      "Epoch 27/50\n",
      "30/30 [==============================] - 0s 3ms/step - loss: 0.2965 - accuracy: 0.8467\n",
      "Epoch 28/50\n",
      "30/30 [==============================] - 0s 3ms/step - loss: 0.3407 - accuracy: 0.8367\n",
      "Epoch 29/50\n",
      "30/30 [==============================] - 0s 3ms/step - loss: 0.2900 - accuracy: 0.8333\n",
      "Epoch 30/50\n",
      "30/30 [==============================] - 0s 3ms/step - loss: 0.2978 - accuracy: 0.8367\n",
      "Epoch 31/50\n",
      "30/30 [==============================] - 0s 3ms/step - loss: 0.2988 - accuracy: 0.8300\n",
      "Epoch 32/50\n",
      "30/30 [==============================] - 0s 3ms/step - loss: 0.2546 - accuracy: 0.8267\n",
      "Epoch 33/50\n",
      "30/30 [==============================] - 0s 3ms/step - loss: 0.2652 - accuracy: 0.8300\n",
      "Epoch 34/50\n",
      "30/30 [==============================] - 0s 3ms/step - loss: 0.3008 - accuracy: 0.8400\n",
      "Epoch 35/50\n",
      "30/30 [==============================] - 0s 3ms/step - loss: 0.2880 - accuracy: 0.8333\n",
      "Epoch 36/50\n",
      "30/30 [==============================] - 0s 3ms/step - loss: 0.2669 - accuracy: 0.8433\n",
      "Epoch 37/50\n",
      "30/30 [==============================] - 0s 3ms/step - loss: 0.2499 - accuracy: 0.8500\n",
      "Epoch 38/50\n",
      "30/30 [==============================] - 0s 3ms/step - loss: 0.2515 - accuracy: 0.8400\n",
      "Epoch 39/50\n",
      "30/30 [==============================] - 0s 3ms/step - loss: 0.2374 - accuracy: 0.8533\n",
      "Epoch 40/50\n",
      "30/30 [==============================] - 0s 3ms/step - loss: 0.2424 - accuracy: 0.8467\n",
      "Epoch 41/50\n",
      "30/30 [==============================] - 0s 3ms/step - loss: 0.2516 - accuracy: 0.8500\n",
      "Epoch 42/50\n",
      "30/30 [==============================] - 0s 3ms/step - loss: 0.2697 - accuracy: 0.8400\n",
      "Epoch 43/50\n",
      "30/30 [==============================] - 0s 3ms/step - loss: 0.2483 - accuracy: 0.8500\n",
      "Epoch 44/50\n",
      "30/30 [==============================] - 0s 3ms/step - loss: 0.2289 - accuracy: 0.8433\n",
      "Epoch 45/50\n",
      "30/30 [==============================] - 0s 3ms/step - loss: 0.2395 - accuracy: 0.8200\n",
      "Epoch 46/50\n",
      "30/30 [==============================] - 0s 3ms/step - loss: 0.2305 - accuracy: 0.8433\n",
      "Epoch 47/50\n",
      "30/30 [==============================] - 0s 3ms/step - loss: 0.2458 - accuracy: 0.8467\n",
      "Epoch 48/50\n",
      "30/30 [==============================] - 0s 3ms/step - loss: 0.2399 - accuracy: 0.8267\n",
      "Epoch 49/50\n",
      "30/30 [==============================] - 0s 3ms/step - loss: 0.2439 - accuracy: 0.8367\n",
      "Epoch 50/50\n",
      "30/30 [==============================] - 0s 3ms/step - loss: 0.2650 - accuracy: 0.8333\n"
     ]
    },
    {
     "data": {
      "text/plain": [
       "<keras.src.callbacks.History at 0x1f18caafa10>"
      ]
     },
     "execution_count": 13,
     "metadata": {},
     "output_type": "execute_result"
    }
   ],
   "source": [
    "model.fit(x_train, y_Ttrain_encoded, batch_size=10, epochs=50)"
   ]
  },
  {
   "cell_type": "code",
   "execution_count": 14,
   "metadata": {},
   "outputs": [
    {
     "name": "stderr",
     "output_type": "stream",
     "text": [
      "C:\\Users\\ILiYA\\AppData\\Local\\Temp\\ipykernel_17984\\2859544591.py:3: UserWarning: You are saving your model as an HDF5 file via `model.save()`. This file format is considered legacy. We recommend using instead the native Keras format, e.g. `model.save('my_model.keras')`.\n",
      "  save_model(model, r\"C:\\Users\\ILiYA\\Desktop\\Human Detection\\Models\\human_pose_detector.h5\")\n"
     ]
    }
   ],
   "source": [
    "from tensorflow.keras.models import save_model\n",
    "save_model(model, r\"C:\\Users\\ILiYA\\Desktop\\Human Detection\\Models\\human_pose_detector.keras\")\n",
    "save_model(model, r\"C:\\Users\\ILiYA\\Desktop\\Human Detection\\Models\\human_pose_detector.h5\")"
   ]
  }
 ],
 "metadata": {
  "kernelspec": {
   "display_name": "base",
   "language": "python",
   "name": "python3"
  },
  "language_info": {
   "codemirror_mode": {
    "name": "ipython",
    "version": 3
   },
   "file_extension": ".py",
   "mimetype": "text/x-python",
   "name": "python",
   "nbconvert_exporter": "python",
   "pygments_lexer": "ipython3",
   "version": "3.11.5"
  }
 },
 "nbformat": 4,
 "nbformat_minor": 2
}
